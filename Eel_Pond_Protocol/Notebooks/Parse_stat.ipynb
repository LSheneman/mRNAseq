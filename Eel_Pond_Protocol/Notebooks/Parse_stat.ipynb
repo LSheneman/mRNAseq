{
 "metadata": {
  "name": "Parse_stat"
 },
 "nbformat": 3,
 "nbformat_minor": 0,
 "worksheets": [
  {
   "cells": [
    {
     "cell_type": "code",
     "collapsed": false,
     "input": [
      "import numpy\n",
      "import glob"
     ],
     "language": "python",
     "metadata": {},
     "outputs": []
    },
    {
     "cell_type": "code",
     "collapsed": false,
     "input": [
      "import glob\n",
      "import numpy as np\n",
      "import scipy as sp\n",
      "import matplotlib as mpl\n",
      "import matplotlib.pyplot as plt\n",
      "\n",
      "m2xl_dirs = ['../Data/AWS_m2.xlarge/other/Part1/',\n",
      "    '../Data/AWS_m2.xlarge/other/Part2/',\n",
      "    '../Data/AWS_m2.xlarge/other/Part3/',\n",
      "    '../Data/AWS_m2.xlarge/other/Part5/']\n",
      "\n",
      "oth1_dirs = ['../Data/Other_source_32gb_R2/other/Part1/',\n",
      "    '../Data/Other_source_32gb_R2/other/Part2/',\n",
      "    '../Data/Other_source_32gb_R2/other/Part3/',\n",
      "    '../Data/Other_source_32gb_R2/other/Part5/']\n",
      "\n",
      "print oth1_dirs"
     ],
     "language": "python",
     "metadata": {},
     "outputs": [
      {
       "output_type": "stream",
       "stream": "stdout",
       "text": [
        "['../Data/Other_source_32gb_R2/other/Part1/', '../Data/Other_source_32gb_R2/other/Part2/', '../Data/Other_source_32gb_R2/other/Part3/', '../Data/Other_source_32gb_R2/other/Part5/']\n"
       ]
      }
     ],
     "prompt_number": 1
    },
    {
     "cell_type": "code",
     "collapsed": false,
     "input": [
      "m2xl_vm_part1 = glob.glob(m2xl_dirs[0] + '*.vm.txt')\n",
      "m2xl_vm_part2 = glob.glob(m2xl_dirs[1] + '*.vm.txt')\n",
      "m2xl_vm_part3 = glob.glob(m2xl_dirs[2] + '*.vm.txt')\n",
      "m2xl_vm_part5 = glob.glob(m2xl_dirs[3] + '*.vm.txt')\n",
      "\n",
      "oth1_vm_part1 = glob.glob(oth1_dirs[0] + '*.vm.txt')\n",
      "oth1_vm_part2 = glob.glob(oth1_dirs[1] + '*.vm.txt')\n",
      "oth1_vm_part3 = glob.glob(oth1_dirs[2] + '*.vm.txt')\n",
      "oth1_vm_part5 = glob.glob(oth1_dirs[3] + '*.vm.txt')\n",
      "\n",
      "print m2xl_vm_part2\n",
      "print oth1_vm_part2"
     ],
     "language": "python",
     "metadata": {},
     "outputs": [
      {
       "output_type": "stream",
       "stream": "stdout",
       "text": [
        "['../Data/AWS_m2.xlarge/other/Part2/diginorm_clean.sh.vm.txt', '../Data/AWS_m2.xlarge/other/Part2/diginorm_pe.sh.vm.txt', '../Data/AWS_m2.xlarge/other/Part2/diginorm_se.vm.txt', '../Data/AWS_m2.xlarge/other/Part2/filter-adund.vm.txt']\n",
        "['../Data/Other_source_32gb_R2/other/Part2/diginorm_clean.sh.vm.txt', '../Data/Other_source_32gb_R2/other/Part2/diginorm_pe.sh.vm.txt', '../Data/Other_source_32gb_R2/other/Part2/diginorm_se.vm.txt', '../Data/Other_source_32gb_R2/other/Part2/filter-adund.vm.txt']\n"
       ]
      }
     ],
     "prompt_number": 2
    },
    {
     "cell_type": "code",
     "collapsed": false,
     "input": [
      "#Stats every 5 secs\n",
      "infile = open(m2xl_vm_part2[0])\n",
      "headers = infile.readline()\n",
      "headers = str.split(headers)\n",
      "\n",
      "print headers\n",
      "\n",
      "for index, field in enumerate(headers):\n",
      "    #################   CPU    ############\n",
      "    if 'sy' in field:      #percent of cpu used for system clean up\n",
      "        sy_index = index\n",
      "    if 'us' in field:      #percent of cpu used for programs\n",
      "        us_index = index\n",
      "    if 'id' in field:      #waiting for new task\n",
      "        id_index = index\n",
      "    if 'wa' in field:      #waiting for I/O (bad >25%)\n",
      "        wa_index = index\n",
      "\n",
      "    #################   Memory    ############\n",
      "    if 'si' in field:      #swap into RAM\n",
      "    \tsi_index = index\n",
      "    if 'so' in field:      #swap memory in to VM\n",
      "        so_index = index\n",
      "    if 'free' in field:    #free memory\n",
      "        free_index = index\n",
      "        \n",
      "    #################   I/O    ############\n",
      "    if 'bi' in field:      #data read 1 kb blocks\n",
      "        bi_index = index\n",
      "    if 'bo' in field:      #data written 1kb blocks\n",
      "        bo_index = index\n",
      "\n",
      "    #################   Disk    ############\n",
      "    if 'di' in field:      #disk faults\n",
      "        di_index = index"
     ],
     "language": "python",
     "metadata": {},
     "outputs": [
      {
       "output_type": "stream",
       "stream": "stdout",
       "text": [
        "['r', 'b', 'swpd', 'free', 'buff', 'cache', 'si', 'so', 'bi', 'bo', 'in', 'cs', 'us', 'sy', 'id', 'wa']\n"
       ]
      }
     ],
     "prompt_number": 3
    },
    {
     "cell_type": "code",
     "collapsed": false,
     "input": [
      "m1l_stats ={}\n",
      "m1l_stats['Part One'] ={}\n",
      "m1l_stats['Part Two'] ={}\n",
      "m1l_stats['Part Three'] ={}\n",
      "m1l_stats['Part Five'] ={}"
     ],
     "language": "python",
     "metadata": {},
     "outputs": [],
     "prompt_number": 5
    },
    {
     "cell_type": "code",
     "collapsed": false,
     "input": [
      "part = 1\n",
      "fileNum = 1\n",
      "\n",
      "m2xl_working_part = glob.glob(m2xl_dirs[part -1] + '*.vm.txt')\n",
      "oth1_working_part = glob.glob(oth1_dirs[part -1] + '*.vm.txt')\n",
      "m2xl_file = open(m2xl_working_part[fileNum -1])\n",
      "oth1_file = open(oth1_working_part[fileNum -1])\n",
      "\n",
      "print m2xl_working_part[fileNum -1]\n",
      "print oth1_working_part[fileNum -1]"
     ],
     "language": "python",
     "metadata": {},
     "outputs": [
      {
       "output_type": "stream",
       "stream": "stdout",
       "text": [
        "../Data/AWS_m2.xlarge/other/Part1/adapter_trim.vm.txt\n",
        "../Data/Other_source_32gb_R2/other/Part1/adapter_trim.vm.txt\n"
       ]
      }
     ],
     "prompt_number": 6
    },
    {
     "cell_type": "code",
     "collapsed": false,
     "input": [
      "sy_used_m2_xl = []\n",
      "us_used_m2_xl = []\n",
      "idle_time_m2_xl = []\n",
      "waiting_time_m2_xl = []\n",
      "swap_out_m2_xl = []\n",
      "swap_in_m2_xl = []\n",
      "free_mem_m2_xl = []\n",
      "blocks_in_m2_xl = []\n",
      "blocks_out_m2_xl = []\n",
      "faults_m2_xl = []\n",
      "\n",
      "for index, line in enumerate(m2xl_file):\n",
      "   if 'buff' not in line:\n",
      "        temp = str.split(line)\n",
      "        sy_used_m2_xl.append(temp[sy_index])\n",
      "        us_used_m2_xl.append(temp[us_index])\n",
      "        idle_time_m2_xl.append(temp[id_index])\n",
      "        waiting_time_m2_xl.append(temp[wa_index])\n",
      "        swap_out_m2_xl.append(temp[so_index])\n",
      "        swap_in_m2_xl.append(temp[si_index])\n",
      "        free_mem_m2_xl.append(temp[free_index])\n",
      "        blocks_in_m2_xl.append(temp[bi_index])\n",
      "        blocks_out_m2_xl.append(temp[bo_index])\n",
      "        \n",
      "sy_used_oth1 = []\n",
      "us_used_oth1 = []\n",
      "idle_time_oth1 = []\n",
      "waiting_time_oth1 = []\n",
      "swap_out_oth1 = []\n",
      "swap_in_oth1 = []\n",
      "free_mem_oth1 = []\n",
      "blocks_in_oth1 = []\n",
      "blocks_out_oth1 = []\n",
      "faults_oth1 = []\n",
      "\n",
      "for index, line in enumerate(oth1_file):\n",
      "   if 'buff' not in line:\n",
      "        temp = str.split(line)\n",
      "        sy_used_oth1.append(temp[sy_index])\n",
      "        us_used_oth1.append(temp[us_index])\n",
      "        idle_time_oth1.append(temp[id_index])\n",
      "        waiting_time_oth1.append(temp[wa_index])\n",
      "        swap_out_oth1.append(temp[so_index])\n",
      "        swap_in_oth1.append(temp[si_index])\n",
      "        free_mem_oth1.append(temp[free_index])\n",
      "        blocks_in_oth1.append(temp[bi_index])\n",
      "        blocks_out_oth1.append(temp[bo_index])"
     ],
     "language": "python",
     "metadata": {},
     "outputs": [],
     "prompt_number": 7
    },
    {
     "cell_type": "code",
     "collapsed": false,
     "input": [],
     "language": "python",
     "metadata": {},
     "outputs": []
    }
   ],
   "metadata": {}
  }
 ]
}