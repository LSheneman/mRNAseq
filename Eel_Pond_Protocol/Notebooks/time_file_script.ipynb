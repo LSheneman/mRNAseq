{
 "metadata": {
  "name": "time_file_script"
 },
 "nbformat": 3,
 "nbformat_minor": 0,
 "worksheets": [
  {
   "cells": [
    {
     "cell_type": "code",
     "collapsed": false,
     "input": [
      "import glob\n",
      "import numpy as np\n",
      "import scipy as sp\n",
      "import matplotlib as mpl\n",
      "import matplotlib.pyplot as plt\n",
      "\n",
      "def _get_max_resident(filename):\n",
      "    for line in open(filename):\n",
      "        line = line.rstrip()\n",
      "        if 'system' in line:\n",
      "            fields1 = line.split('user')\n",
      "            user = float(fields1[0])\n",
      "            fields1b = line.split('system')[0].split()[-1]\n",
      "            system = float(fields1b)\n",
      "            walltime = line.split('elapsed')[0].split()[-1]\n",
      "            walltime = walltime.split(':')\n",
      "            assert len(walltime)<=3\n",
      "            if (len(walltime) == 3):\n",
      "                hours = float(walltime[0])\n",
      "                minutes = float(walltime[1])\n",
      "                seconds = float(walltime[2])\n",
      "            else:\n",
      "                hours = float(0)\n",
      "                minutes = float(walltime[0])\n",
      "                seconds = float(walltime[1])\n",
      "            wall_seconds = hours*60*60 + minutes*60 + float(seconds)\n",
      "            return float(system), float(user), float(wall_seconds)\n",
      "    raise Exception(filename)"
     ],
     "language": "python",
     "metadata": {},
     "outputs": [],
     "prompt_number": 1
    },
    {
     "cell_type": "code",
     "collapsed": false,
     "input": [
      "run = ('m1l_dir')\n",
      "location = '../Data/AWS_m1.large_R1/'"
     ],
     "language": "python",
     "metadata": {},
     "outputs": [],
     "prompt_number": 38
    },
    {
     "cell_type": "code",
     "collapsed": false,
     "input": [
      "exec(run + \" = [location + 'Part1/', location + 'Part2/', location + 'Part3/', location + 'Part5/']\")"
     ],
     "language": "python",
     "metadata": {},
     "outputs": [],
     "prompt_number": 39
    },
    {
     "cell_type": "code",
     "collapsed": false,
     "input": [
      "m1l_dir"
     ],
     "language": "python",
     "metadata": {},
     "outputs": [
      {
       "output_type": "pyout",
       "prompt_number": 40,
       "text": [
        "['../Data/AWS_m1.large_R1/Part1/',\n",
        " '../Data/AWS_m1.large_R1/Part2/',\n",
        " '../Data/AWS_m1.large_R1/Part3/',\n",
        " '../Data/AWS_m1.large_R1/Part5/']"
       ]
      }
     ],
     "prompt_number": 40
    },
    {
     "cell_type": "code",
     "collapsed": false,
     "input": [
      "run = ('m1_dir', 'm2xl_dir')"
     ],
     "language": "python",
     "metadata": {},
     "outputs": [],
     "prompt_number": 41
    },
    {
     "cell_type": "code",
     "collapsed": false,
     "input": [
      "for field in run:\n",
      "    exec(field + \" = [location + 'Part1/', location + 'Part2/', location + 'Part3/', location + 'Part5/']\")\n",
      "    print field"
     ],
     "language": "python",
     "metadata": {},
     "outputs": [
      {
       "output_type": "stream",
       "stream": "stdout",
       "text": [
        "m1_dir\n",
        "m2xl_dir\n"
       ]
      }
     ],
     "prompt_number": 43
    },
    {
     "cell_type": "code",
     "collapsed": false,
     "input": [
      "run = ('m1_dir', '../Data/AWS_m1.large_R1/', 'm2xl_dir', '../Data/AWS_m2.xlarge/', 'oth1_dir', '../Data/Other_source_32gb_R2/','oth2_dir','../Data/Other_source_30gb_R3/')"
     ],
     "language": "python",
     "metadata": {},
     "outputs": [],
     "prompt_number": 54
    },
    {
     "cell_type": "code",
     "collapsed": false,
     "input": [
      "for field in run:\n",
      "    if '../Data/' in field:\n",
      "        tempDir = field\n",
      "    else:\n",
      "        tempRun = field\n",
      "    exec(tempRun + \" = [tempDir + 'Part1/', location + 'Part2/', location + 'Part3/', location + 'Part5/']\")"
     ],
     "language": "python",
     "metadata": {},
     "outputs": [],
     "prompt_number": 59
    },
    {
     "cell_type": "code",
     "collapsed": false,
     "input": [
      "oth2_dir"
     ],
     "language": "python",
     "metadata": {},
     "outputs": [
      {
       "output_type": "pyout",
       "prompt_number": 60,
       "text": [
        "['../Data/Other_source_30gb_R3/Part1/',\n",
        " '../Data/AWS_m1.large_R1/Part2/',\n",
        " '../Data/AWS_m1.large_R1/Part3/',\n",
        " '../Data/AWS_m1.large_R1/Part5/']"
       ]
      }
     ],
     "prompt_number": 60
    },
    {
     "cell_type": "code",
     "collapsed": false,
     "input": [],
     "language": "python",
     "metadata": {},
     "outputs": []
    }
   ],
   "metadata": {}
  }
 ]
}