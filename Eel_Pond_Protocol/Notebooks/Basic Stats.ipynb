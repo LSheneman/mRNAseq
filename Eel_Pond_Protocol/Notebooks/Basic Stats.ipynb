{
 "metadata": {
  "name": "Basic Stats"
 },
 "nbformat": 3,
 "nbformat_minor": 0,
 "worksheets": [
  {
   "cells": [
    {
     "cell_type": "code",
     "collapsed": false,
     "input": [
      "import numpy\n",
      "import glob\n",
      "\n",
      "m1l_dirs = ['../Data/AWS_m1.large_R1/Part1/',\n",
      "    '../Data/AWS_m1.large_R1/Part2/',\n",
      "    '../Data/AWS_m1.large_R1/Part3/',\n",
      "    '../Data/AWS_m1.large_R1/Part5/']\n",
      "\n",
      "m2xl_dirs = ['../Data/AWS_m2.xlarge/Part1/',\n",
      "    '../Data/AWS_m2.xlarge/Part2/',\n",
      "    '../Data/AWS_m2.xlarge/Part3/',\n",
      "    '../Data/AWS_m2.xlarge/Part5/']\n",
      "\n",
      "oth1_dirs = ['../Data/Other_source_32gb_R2/Part1/',\n",
      "    '../Data/Other_source_32gb_R2/Part2/',\n",
      "    '../Data/Other_source_32gb_R2/Part3/',\n",
      "    '../Data/Other_source_32gb_R2/Part5/']\n",
      "\n",
      "names = ['Trimming', 'Diginorm', 'Assembly', 'Annotation']\n",
      "# note: different zones!\n",
      "\n",
      "def _get_time_all(filename):\n",
      "    for line in open(filename):\n",
      "        line = line.rstrip()\n",
      "        if 'system' in line:\n",
      "            fields1 = line.split('user')\n",
      "            user = float(fields1[0])\n",
      "            fields1b = line.split('system')[0].split()[-1]\n",
      "            system = float(fields1b)\n",
      "            walltime = line.split('elapsed')[0].split()[-1]\n",
      "            walltime = walltime.split(':')\n",
      "            assert len(walltime)<=3\n",
      "            if (len(walltime) == 3):\n",
      "                hours = float(walltime[0])\n",
      "                minutes = float(walltime[1])\n",
      "                seconds = float(walltime[2])\n",
      "            else:\n",
      "                hours = float(0)\n",
      "                minutes = float(walltime[0])\n",
      "                seconds = float(walltime[1])\n",
      "            wall_seconds = hours*60*60 + minutes*60 + float(seconds)\n",
      "            return float(system), float(user), float(wall_seconds)\n",
      "    raise Exception(filename)\n",
      "    \n",
      "def get_time_all(filenames):\n",
      "    aa, bb, cc = 0., 0., 0.\n",
      "    for filename in filenames:\n",
      "        a, b, c = _get_time_all(filename)\n",
      "        aa += a\n",
      "        bb += b\n",
      "        cc += c\n",
      "    return aa, bb, cc\n",
      "\n",
      "m1l_Part1 = glob.glob(m1l_dirs[0] + '*')\n",
      "m1l_Part2 = glob.glob(m1l_dirs[1] + '*')\n",
      "m1l_Part3 = glob.glob(m1l_dirs[2] + '*')\n",
      "m1l_Part5= glob.glob(m1l_dirs[3] + '*')\n",
      "\n",
      "m2xl_Part1 = glob.glob(m2xl_dirs[0] + '*')\n",
      "m2xl_Part2 = glob.glob(m2xl_dirs[1] + '*')\n",
      "m2xl_Part3 = glob.glob(m2xl_dirs[2] + '*')\n",
      "m2xl_Part5= glob.glob(m2xl_dirs[3] + '*')\n",
      "\n",
      "oth1_Part1 = glob.glob(oth1_dirs[0] + '*')\n",
      "oth1_Part2 = glob.glob(oth1_dirs[1] + '*')\n",
      "oth1_Part3 = glob.glob(oth1_dirs[2] + '*')\n",
      "oth1_Part5= glob.glob(oth1_dirs[3] + '*')"
     ],
     "language": "python",
     "metadata": {},
     "outputs": [],
     "prompt_number": 23
    },
    {
     "cell_type": "code",
     "collapsed": false,
     "input": [
      "def avg(*args):\n",
      "    return array(args).mean()\n",
      "\n",
      "def stdDev(*args):\n",
      "    return array(args).std()"
     ],
     "language": "python",
     "metadata": {},
     "outputs": [],
     "prompt_number": 24
    },
    {
     "cell_type": "code",
     "collapsed": false,
     "input": [
      "cross_platform_times = {}\n",
      "cross_platform_times['Part1'] = {}\n",
      "cross_platform_times['Part2'] = {}\n",
      "cross_platform_times['Part3'] = {}\n",
      "cross_platform_times['Part5'] = {}\n",
      "\n",
      "stats_by_part = {}\n",
      "stats_by_part['Part1'] = {}\n",
      "stats_by_part['Part2'] = {}\n",
      "stats_by_part['Part3'] = {}\n",
      "stats_by_part['Part5'] = {}"
     ],
     "language": "python",
     "metadata": {},
     "outputs": [],
     "prompt_number": 25
    },
    {
     "cell_type": "code",
     "collapsed": false,
     "input": [
      "for x in range(0, len(m2xl_Part1)):\n",
      "    tempList = []\n",
      "    cross_platform_times['Part1'][((m2xl_Part1[x])[28:])[:-5]] = []   #name\n",
      "\n",
      "    #build a temp list with times from each run \n",
      "    temp = _get_time_all(m2xl_Part1[x])\n",
      "    tempList.append(temp[1])\n",
      "    temp = _get_time_all(oth1_Part1[x])\n",
      "    tempList.append(temp[1])\n",
      "    temp = _get_time_all(m1l_Part1[x])\n",
      "    tempList.append(temp[1])\n",
      "\n",
      "    #place in Dict\n",
      "    cross_platform_times['Part1'][((m2xl_Part1[x])[28:])[:-5]]  = tempList"
     ],
     "language": "python",
     "metadata": {},
     "outputs": [],
     "prompt_number": 26
    },
    {
     "cell_type": "code",
     "collapsed": false,
     "input": [
      "for x in range(0, len(m2xl_Part2)):\n",
      "    tempList = []\n",
      "    cross_platform_times['Part2'][((m2xl_Part2[x])[28:])[:-5]] = []   #name\n",
      "\n",
      "    #build a temp list with times from each run \n",
      "    temp = _get_time_all(m2xl_Part2[x])\n",
      "    tempList.append(temp[1])\n",
      "    temp = _get_time_all(oth1_Part2[x])\n",
      "    tempList.append(temp[1])\n",
      "    temp = _get_time_all(m1l_Part2[x])\n",
      "    tempList.append(temp[1])\n",
      "\n",
      "    #place in Dict\n",
      "    cross_platform_times['Part2'][((m2xl_Part2[x])[28:])[:-5]]  = tempList"
     ],
     "language": "python",
     "metadata": {},
     "outputs": [],
     "prompt_number": 27
    },
    {
     "cell_type": "code",
     "collapsed": false,
     "input": [
      "for x in range(0, len(m2xl_Part3)):\n",
      "    tempList = []\n",
      "    cross_platform_times['Part3'][((m2xl_Part3[x])[28:])[:-5]] = []   #name\n",
      "\n",
      "    #build a temp list with times from each run \n",
      "    temp = _get_time_all(m2xl_Part3[x])\n",
      "    tempList.append(temp[1])\n",
      "    temp = _get_time_all(oth1_Part3[x])\n",
      "    tempList.append(temp[1])\n",
      "    temp = _get_time_all(m1l_Part3[x])\n",
      "    tempList.append(temp[1])\n",
      "\n",
      "    #place in Dict\n",
      "    cross_platform_times['Part3'][((m2xl_Part3[x])[28:])[:-5]]  = tempList"
     ],
     "language": "python",
     "metadata": {},
     "outputs": [],
     "prompt_number": 28
    },
    {
     "cell_type": "code",
     "collapsed": false,
     "input": [
      "for x in range(0, len(m2xl_Part5)):\n",
      "    tempList = []\n",
      "    cross_platform_times['Part5'][((m2xl_Part5[x])[28:])[:-5]] = []   #name\n",
      "\n",
      "    #build a temp list with times from each run \n",
      "    temp = _get_time_all(m2xl_Part5[x])\n",
      "    tempList.append(temp[1])\n",
      "    temp = _get_time_all(oth1_Part5[x])\n",
      "    tempList.append(temp[1])\n",
      "    temp = _get_time_all(m1l_Part5[x])\n",
      "    tempList.append(temp[1])\n",
      "\n",
      "    #place in Dict\n",
      "    cross_platform_times['Part5'][((m2xl_Part5[x])[28:])[:-5]]  = tempList"
     ],
     "language": "python",
     "metadata": {},
     "outputs": [],
     "prompt_number": 29
    },
    {
     "cell_type": "code",
     "collapsed": false,
     "input": [
      "for key in cross_platform_times['Part1']:\n",
      "    temp = {}\n",
      "    average = avg(cross_platform_times['Part1'][key])\n",
      "    temp['average'] = average\n",
      "    temp['std'] = stdDev(cross_platform_times['Part1'][key])\n",
      "    stats_by_part['Part1'][key] = temp"
     ],
     "language": "python",
     "metadata": {},
     "outputs": [],
     "prompt_number": 30
    },
    {
     "cell_type": "code",
     "collapsed": false,
     "input": [
      "for key in cross_platform_times['Part2']:\n",
      "    temp = {}\n",
      "    average = avg(cross_platform_times['Part2'][key])\n",
      "    temp['average'] = average\n",
      "    temp['std'] = stdDev(cross_platform_times['Part2'][key])\n",
      "    stats_by_part['Part2'][key] = temp"
     ],
     "language": "python",
     "metadata": {},
     "outputs": [],
     "prompt_number": 31
    },
    {
     "cell_type": "code",
     "collapsed": false,
     "input": [
      "for key in cross_platform_times['Part3']:\n",
      "    temp = {}\n",
      "    average = avg(cross_platform_times['Part3'][key])\n",
      "    temp['average'] = average\n",
      "    temp['std'] = stdDev(cross_platform_times['Part3'][key])\n",
      "    stats_by_part['Part3'][key] = temp"
     ],
     "language": "python",
     "metadata": {},
     "outputs": [],
     "prompt_number": 32
    },
    {
     "cell_type": "code",
     "collapsed": false,
     "input": [
      "for key in cross_platform_times['Part5']:\n",
      "    temp = {}\n",
      "    average = avg(cross_platform_times['Part5'][key])\n",
      "    temp['average'] = average\n",
      "    temp['std'] = stdDev(cross_platform_times['Part5'][key])\n",
      "    stats_by_part['Part5'][key] = temp"
     ],
     "language": "python",
     "metadata": {},
     "outputs": [],
     "prompt_number": 33
    },
    {
     "cell_type": "code",
     "collapsed": false,
     "input": [
      "for key in stats_by_part['Part1']:\n",
      "    print key\n",
      "    print 'Average: ', stats_by_part['Part1'][key]['average']\n",
      "    print 'Standard Dev: ', stats_by_part['Part1'][key]['std']\n",
      "    print"
     ],
     "language": "python",
     "metadata": {},
     "outputs": [
      {
       "output_type": "stream",
       "stream": "stdout",
       "text": [
        "adapter_trim\n",
        "Average:  0.0233333333333\n",
        "Standard Dev:  0.0124721912892\n",
        "\n",
        "trim_clean.sh\n",
        "Average:  5653.85333333\n",
        "Standard Dev:  3067.99930158\n",
        "\n",
        "quality_trim.sh\n",
        "Average:  30106.33\n",
        "Standard Dev:  1654.97638015\n",
        "\n",
        "extract_pairs.sh\n",
        "Average:  9353.23666667\n",
        "Standard Dev:  1015.996984\n",
        "\n",
        "trim_run.sh\n",
        "Average:  28630.0833333\n",
        "Standard Dev:  1910.6038166\n",
        "\n"
       ]
      }
     ],
     "prompt_number": 37
    },
    {
     "cell_type": "code",
     "collapsed": false,
     "input": [
      "for key in stats_by_part['Part2']:\n",
      "    print key\n",
      "    print 'Average: ', stats_by_part['Part2'][key]['average']\n",
      "    print 'Standard Dev: ', stats_by_part['Part2'][key]['std']\n",
      "    print"
     ],
     "language": "python",
     "metadata": {},
     "outputs": [
      {
       "output_type": "stream",
       "stream": "stdout",
       "text": [
        "filter-adund\n",
        "Average:  3746.82666667\n",
        "Standard Dev:  2413.44125578\n",
        "\n",
        "diginorm_pe.sh\n",
        "Average:  19238.2466667\n",
        "Standard Dev:  3207.4346469\n",
        "\n",
        "diginorm_se\n",
        "Average:  985.826666667\n",
        "Standard Dev:  160.367808144\n",
        "\n"
       ]
      }
     ],
     "prompt_number": 38
    },
    {
     "cell_type": "code",
     "collapsed": false,
     "input": [
      "for key in stats_by_part['Part3']:\n",
      "    print key\n",
      "    print 'Average: ', stats_by_part['Part3'][key]['average']\n",
      "    print 'Standard Dev: ', stats_by_part['Part3'][key]['std']\n",
      "    print"
     ],
     "language": "python",
     "metadata": {},
     "outputs": [
      {
       "output_type": "stream",
       "stream": "stdout",
       "text": [
        "trinity\n",
        "Average:  98872.6266667\n",
        "Standard Dev:  68687.8946334\n",
        "\n",
        "trinity_split.sh\n",
        "Average:  309.583333333\n",
        "Standard Dev:  222.058442207\n",
        "\n"
       ]
      }
     ],
     "prompt_number": 39
    },
    {
     "cell_type": "code",
     "collapsed": false,
     "input": [
      "for key in stats_by_part['Part5']:\n",
      "    print key\n",
      "    print 'Average: ', stats_by_part['Part5'][key]['average']\n",
      "    print 'Standard Dev: ', stats_by_part['Part5'][key]['std']\n",
      "    print"
     ],
     "language": "python",
     "metadata": {},
     "outputs": [
      {
       "output_type": "stream",
       "stream": "stdout",
       "text": [
        "homology\n",
        "Average:  43908.9433333\n",
        "Standard Dev:  61925.5748344\n",
        "\n",
        "group\n",
        "Average:  407.42\n",
        "Standard Dev:  463.099164399\n",
        "\n",
        "format_annotate.sh\n",
        "Average:  84221.5366667\n",
        "Standard Dev:  119093.344902\n",
        "\n",
        "get_mouse_info.sh\n",
        "Average:  41.4966666667\n",
        "Standard Dev:  55.8782643093\n",
        "\n",
        "orthology\n",
        "Average:  97.7333333333\n",
        "Standard Dev:  64.3144734013\n",
        "\n",
        "khmer_part\n",
        "Average:  509.133333333\n",
        "Standard Dev:  302.419321399\n",
        "\n",
        "nema.x.mouse\n",
        "Average:  203003.453333\n",
        "Standard Dev:  30452.3681322\n",
        "\n",
        "annotate\n",
        "Average:  14.5833333333\n",
        "Standard Dev:  2.54349278661\n",
        "\n",
        "mouse.x.nema\n",
        "Average:  72304.1866667\n",
        "Standard Dev:  52591.796823\n",
        "\n"
       ]
      }
     ],
     "prompt_number": 40
    },
    {
     "cell_type": "code",
     "collapsed": false,
     "input": [
      "m1l_partTimes = {}\n",
      "m1l_partTimes[0] = get_time_all(m1l_Part1)\n",
      "m1l_partTimes[1] = get_time_all(m1l_Part2)\n",
      "m1l_partTimes[2] = get_time_all(m1l_Part3)\n",
      "m1l_partTimes[3] = get_time_all(m1l_Part5)\n",
      "\n",
      "m2xl_partTimes = {}\n",
      "m2xl_partTimes[0] = get_time_all(m2xl_Part1)\n",
      "m2xl_partTimes[1] = get_time_all(m2xl_Part2)\n",
      "m2xl_partTimes[2] = get_time_all(m2xl_Part3)\n",
      "m2xl_partTimes[3] = get_time_all(m2xl_Part5)\n",
      "\n",
      "oth1_partTimes = {}\n",
      "oth1_partTimes[0] = get_time_all(oth1_Part1)\n",
      "oth1_partTimes[1] = get_time_all(oth1_Part2)\n",
      "oth1_partTimes[2] = get_time_all(oth1_Part3)\n",
      "oth1_partTimes[3] = get_time_all(oth1_Part5)\n",
      "\n",
      "\n",
      "\n",
      "\n",
      "#Data to make Graph ran on amazon m1.Large\n",
      "m1l_totalTimes = []\n",
      "for x in range (0 , len(m1l_partTimes)):\n",
      "    if 'diginorm_clean.sh.time' not in m1l_partTimes[x]:\n",
      "        temp = m1l_partTimes[x]\n",
      "        \n",
      "        m1l_totalTimes.append(temp[2])\n",
      "    \n",
      "#Data to make Graph ran on amazon m2.xlarge\n",
      "m2xl_totalTimes = []\n",
      "for x in range (0 , len(m2xl_partTimes)):\n",
      "    if 'diginorm_clean.sh.time' not in m2xl_partTimes[x]:\n",
      "        temp = m2xl_partTimes[x]\n",
      "        \n",
      "        m2xl_totalTimes.append(temp[2])\n",
      "    \n",
      "#Data to make Graph ran on Other_sour Run2   \n",
      "oth1_totalTimes = []\n",
      "for x in range (0 , len(oth1_partTimes)):\n",
      "    if 'diginorm_clean.sh.time' not in m2xl_partTimes[x]:\n",
      "        temp = oth1_partTimes[x]\n",
      "        \n",
      "        oth1_totalTimes.append(temp[2])"
     ],
     "language": "python",
     "metadata": {},
     "outputs": [],
     "prompt_number": 41
    },
    {
     "cell_type": "code",
     "collapsed": false,
     "input": [
      "totaltimes = {}\n",
      "\n",
      "totaltimes['Part One'] = []\n",
      "totaltimes['Part Two'] = []\n",
      "totaltimes['Part Three'] = []\n",
      "totaltimes['Part Five'] = []\n",
      "\n",
      "totaltimes['Part One'].append(m1l_totalTimes[0]/60/60)\n",
      "totaltimes['Part One'].append(m2xl_totalTimes[0]/60/60)\n",
      "totaltimes['Part One'].append(oth1_totalTimes[0]/60/60)\n",
      "\n",
      "totaltimes['Part Two'].append(m1l_totalTimes[1]/60/60)\n",
      "totaltimes['Part Two'].append(m2xl_totalTimes[1]/60/60)\n",
      "totaltimes['Part Two'].append(oth1_totalTimes[1]/60/60)\n",
      "\n",
      "totaltimes['Part Three'].append(m1l_totalTimes[2]/60/60)\n",
      "totaltimes['Part Three'].append(m2xl_totalTimes[2]/60/60)\n",
      "totaltimes['Part Three'].append(oth1_totalTimes[2]/60/60)\n",
      "\n",
      "totaltimes['Part Five'].append(m1l_totalTimes[3]/60/60)\n",
      "totaltimes['Part Five'].append(m2xl_totalTimes[3]/60/60)\n",
      "totaltimes['Part Five'].append(oth1_totalTimes[3]/60/60)"
     ],
     "language": "python",
     "metadata": {},
     "outputs": [],
     "prompt_number": 42
    },
    {
     "cell_type": "code",
     "collapsed": false,
     "input": [
      "totalStats = {}\n",
      "\n",
      "for key in totaltimes:\n",
      "    temp = {}\n",
      "    average = avg(totaltimes[key])\n",
      "    temp['average'] = average\n",
      "    temp['std'] = stdDev(totaltimes[key])\n",
      "    totalStats[key] = temp"
     ],
     "language": "python",
     "metadata": {},
     "outputs": [],
     "prompt_number": 43
    },
    {
     "cell_type": "code",
     "collapsed": false,
     "input": [
      "for stat in totalStats:\n",
      "    print stat, \n",
      "    print\n",
      "    print 'Average: ', totalStats[stat]['average'], '       Standard Dev: ', totalStats[stat]['std']\n",
      "    print"
     ],
     "language": "python",
     "metadata": {},
     "outputs": [
      {
       "output_type": "stream",
       "stream": "stdout",
       "text": [
        "Part One\n",
        "Average:  17.9530018519        Standard Dev:  2.52884426026\n",
        "\n",
        "Part Five\n",
        "Average:  46.7530694444        Standard Dev:  23.78253322\n",
        "\n",
        "Part Three\n",
        "Average:  15.0310259259        Standard Dev:  10.3833602514\n",
        "\n",
        "Part Two\n",
        "Average:  6.66491018519        Standard Dev:  1.39001454855\n",
        "\n"
       ]
      }
     ],
     "prompt_number": 44
    },
    {
     "cell_type": "code",
     "collapsed": false,
     "input": [
      "print sum(m1l_totalTimes)\n",
      "print sum(m1l_totalTimes)/60/60\n",
      "print (sum(m1l_totalTimes)/60/60)*.24"
     ],
     "language": "python",
     "metadata": {},
     "outputs": [
      {
       "output_type": "stream",
       "stream": "stdout",
       "text": [
        "358787.45\n",
        "99.6631805556\n",
        "23.9191633333\n"
       ]
      }
     ],
     "prompt_number": 53
    },
    {
     "cell_type": "code",
     "collapsed": false,
     "input": [
      "print sum(m2xl_totalTimes)\n",
      "print sum(m2xl_totalTimes)/60/60\n",
      "print (sum(m2xl_totalTimes)/60/60)*.5"
     ],
     "language": "python",
     "metadata": {},
     "outputs": [
      {
       "output_type": "stream",
       "stream": "stdout",
       "text": [
        "434272.8\n",
        "120.631333333\n",
        "60.3156666667\n"
       ]
      }
     ],
     "prompt_number": 54
    },
    {
     "cell_type": "code",
     "collapsed": false,
     "input": [
      "print sum(oth1_totalTimes)\n",
      "print sum(oth1_totalTimes)/60/60\n",
      "print (sum(oth1_totalTimes)/60/60)*1.20"
     ],
     "language": "python",
     "metadata": {},
     "outputs": [
      {
       "output_type": "stream",
       "stream": "stdout",
       "text": [
        "140081.43\n",
        "38.9115083333\n",
        "46.69381\n"
       ]
      }
     ],
     "prompt_number": 55
    },
    {
     "cell_type": "code",
     "collapsed": false,
     "input": [],
     "language": "python",
     "metadata": {},
     "outputs": []
    }
   ],
   "metadata": {}
  }
 ]
}