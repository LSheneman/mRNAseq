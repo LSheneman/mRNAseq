{
 "metadata": {
  "name": "Parsing - mp"
 },
 "nbformat": 3,
 "nbformat_minor": 0,
 "worksheets": [
  {
   "cells": [
    {
     "cell_type": "code",
     "collapsed": false,
     "input": [
      "import numpy\n",
      "import glob\n",
      "\n",
      "datadirs = ['../Data/AWS_m2.xlarge/other/Part1/',\n",
      "    '../Data/AWS_m2.xlarge/other/Part2/',\n",
      "    '../Data/AWS_m2.xlarge/other/Part3/',\n",
      "    '../Data/AWS_m2.xlarge/other/Part5/']\n",
      "\n",
      "print datadirs"
     ],
     "language": "python",
     "metadata": {},
     "outputs": [
      {
       "output_type": "stream",
       "stream": "stdout",
       "text": [
        "['../Data/AWS_m2.xlarge/other/Part1/', '../Data/AWS_m2.xlarge/other/Part2/', '../Data/AWS_m2.xlarge/other/Part3/', '../Data/AWS_m2.xlarge/other/Part5/']\n"
       ]
      }
     ],
     "prompt_number": 6
    },
    {
     "cell_type": "code",
     "collapsed": false,
     "input": [
      "fileNames_mp_part1 = glob.glob(datadirs[0] + '*.mp.*')\n",
      "fileNames_mp_part2 = glob.glob(datadirs[1] + '*.mp.*')\n",
      "fileNames_mp_part3 = glob.glob(datadirs[2] + '*.mp.*')\n",
      "fileNames_mp_part5 = glob.glob(datadirs[3] + '*.mp.*')\n",
      "\n"
     ],
     "language": "python",
     "metadata": {},
     "outputs": [],
     "prompt_number": 7
    },
    {
     "cell_type": "code",
     "collapsed": false,
     "input": [
      "for field in  fileNames_mp_part1:\n",
      "    infile = open(field)\n",
      "    temp = \"all_\" + field[34:]\n",
      "    allfile = open(str(\"../Data/AWS_m2.xlarge/other/Part1/mp/all/\" + field[34:]), 'w')\n",
      "    file0 = open(str(\"../Data/AWS_m2.xlarge/other/Part1/mp/0/\"+ field[34:]), 'w')\n",
      "    file1 = open(str(\"../Data/AWS_m2.xlarge/other/Part1/mp/1/\"+ field[34:]), 'w')\n",
      "    file2 = open(str(\"../Data/AWS_m2.xlarge/other/Part1/mp/2/\"+ field[34:]), 'w')\n",
      "    file3 = open(str(\"../Data/AWS_m2.xlarge/other/Part1/mp/3/\"+ field[34:]), 'w')    \n",
      "    for line in infile:\n",
      "        if 'Average:     all' in line:\n",
      "            allfile.write(line)\n",
      "        if 'Average:       0' in line:\n",
      "            file0.write(line)\n",
      "        if 'Average:       1' in line:\n",
      "            file1.write(line)\n",
      "        if 'Average:       2' in line:\n",
      "            file2.write(line)\n",
      "        if 'Average:       3' in line:\n",
      "            file3.write(line)   \n",
      "allfile.close()\n",
      "file0.close()\n",
      "file1.close()\n",
      "file2.close()\n",
      "file3.close()"
     ],
     "language": "python",
     "metadata": {},
     "outputs": [],
     "prompt_number": 8
    },
    {
     "cell_type": "code",
     "collapsed": false,
     "input": [
      "for field in  fileNames_mp_part2:\n",
      "    infile = open(field)\n",
      "    temp = \"all_\" + field[34:]\n",
      "    allfile = open(str(\"../Data/AWS_m2.xlarge/other/Part2/mp/all/\" + field[34:]), 'w')\n",
      "    file0 = open(str(\"../Data/AWS_m2.xlarge/other/Part2/mp/0/\"+ field[34:]), 'w')\n",
      "    file1 = open(str(\"../Data/AWS_m2.xlarge/other/Part2/mp/1/\"+ field[34:]), 'w')\n",
      "    file2 = open(str(\"../Data/AWS_m2.xlarge/other/Part2/mp/2/\"+ field[34:]), 'w')\n",
      "    file3 = open(str(\"../Data/AWS_m2.xlarge/other/Part2/mp/3/\"+ field[34:]), 'w')        \n",
      "    for line in infile:\n",
      "        if 'Average:     all' in line:\n",
      "            allfile.write(line)\n",
      "        if 'Average:       0' in line:\n",
      "            file0.write(line)\n",
      "        if 'Average:       1' in line:\n",
      "            file1.write(line)\n",
      "        if 'Average:       2' in line:\n",
      "            file2.write(line)\n",
      "        if 'Average:       3' in line:\n",
      "            file3.write(line)   \n",
      "allfile.close()\n",
      "file0.close()\n",
      "file1.close()\n",
      "file2.close()\n",
      "file3.close()"
     ],
     "language": "python",
     "metadata": {},
     "outputs": [],
     "prompt_number": 9
    },
    {
     "cell_type": "code",
     "collapsed": false,
     "input": [
      "for field in  fileNames_mp_part3:\n",
      "    infile = open(field)\n",
      "    temp = \"all_\" + field[34:]\n",
      "    allfile = open(str(\"../Data/AWS_m2.xlarge/other/Part3/mp/all/\" + field[34:]), 'w')\n",
      "    file0 = open(str(\"../Data/AWS_m2.xlarge/other/Part3/mp/0/\"+ field[34:]), 'w')\n",
      "    file1 = open(str(\"../Data/AWS_m2.xlarge/other/Part3/mp/1/\"+ field[34:]), 'w')\n",
      "    file2 = open(str(\"../Data/AWS_m2.xlarge/other/Part3/mp/2/\"+ field[34:]), 'w')\n",
      "    file3 = open(str(\"../Data/AWS_m2.xlarge/other/Part3/mp/3/\"+ field[34:]), 'w')       \n",
      "    for line in infile:\n",
      "        if 'Average:     all' in line:\n",
      "            allfile.write(line)\n",
      "        if 'Average:       0' in line:\n",
      "            file0.write(line)\n",
      "        if 'Average:       1' in line:\n",
      "            file1.write(line)\n",
      "        if 'Average:       2' in line:\n",
      "            file2.write(line)\n",
      "        if 'Average:       3' in line:\n",
      "            file3.write(line)   \n",
      "allfile.close()\n",
      "file0.close()\n",
      "file1.close()\n",
      "file2.close()\n",
      "file3.close()"
     ],
     "language": "python",
     "metadata": {},
     "outputs": [],
     "prompt_number": 10
    },
    {
     "cell_type": "code",
     "collapsed": false,
     "input": [
      "for field in  fileNames_mp_part5:\n",
      "    infile = open(field)\n",
      "    temp = \"all_\" + field[34:]\n",
      "    allfile = open(str(\"../Data/AWS_m2.xlarge/other/Part5/mp/all/\" + field[34:]), 'w')\n",
      "    file0 = open(str(\"../Data/AWS_m2.xlarge/other/Part5/mp/0/\"+ field[34:]), 'w')\n",
      "    file1 = open(str(\"../Data/AWS_m2.xlarge/other/Part5/mp/1/\"+ field[34:]), 'w')\n",
      "    file2 = open(str(\"../Data/AWS_m2.xlarge/other/Part5/mp/2/\"+ field[34:]), 'w')\n",
      "    file3 = open(str(\"../Data/AWS_m2.xlarge/other/Part5/mp/3/\"+ field[34:]), 'w')  \n",
      "    file3 = open((\"3.\" + field[34:]), 'w')       \n",
      "    for line in infile:\n",
      "        if 'Average:     all' in line:\n",
      "            allfile.write(line)\n",
      "        if 'Average:       0' in line:\n",
      "            file0.write(line)\n",
      "        if 'Average:       1' in line:\n",
      "            file1.write(line)\n",
      "        if 'Average:       2' in line:\n",
      "            file2.write(line)\n",
      "        if 'Average:       3' in line:\n",
      "            file3.write(line)   \n",
      "allfile.close()\n",
      "file0.close()\n",
      "file1.close()\n",
      "file2.close()\n",
      "file3.close()"
     ],
     "language": "python",
     "metadata": {},
     "outputs": [],
     "prompt_number": 11
    },
    {
     "cell_type": "code",
     "collapsed": false,
     "input": [],
     "language": "python",
     "metadata": {},
     "outputs": []
    }
   ],
   "metadata": {}
  }
 ]
}