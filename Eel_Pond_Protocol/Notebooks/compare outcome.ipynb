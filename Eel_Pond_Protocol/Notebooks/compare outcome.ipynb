{
 "metadata": {
  "name": "compare outcome"
 },
 "nbformat": 3,
 "nbformat_minor": 0,
 "worksheets": [
  {
   "cells": [
    {
     "cell_type": "code",
     "collapsed": false,
     "input": [
      "import numpy\n",
      "import glob\n",
      "import screed"
     ],
     "language": "python",
     "metadata": {},
     "outputs": [],
     "prompt_number": 1
    },
    {
     "cell_type": "code",
     "collapsed": false,
     "input": [
      "cd Nema_Data"
     ],
     "language": "python",
     "metadata": {},
     "outputs": [
      {
       "output_type": "stream",
       "stream": "stdout",
       "text": [
        "/Users/leigh/Nema_Data\n"
       ]
      }
     ],
     "prompt_number": 4
    },
    {
     "cell_type": "code",
     "collapsed": false,
     "input": [
      "dirs = ['Assembly/','Rackspace/']"
     ],
     "language": "python",
     "metadata": {},
     "outputs": [],
     "prompt_number": 5
    },
    {
     "cell_type": "code",
     "collapsed": false,
     "input": [
      "reads_Titus = set()\n",
      "reads_rackspace = set()"
     ],
     "language": "python",
     "metadata": {},
     "outputs": [],
     "prompt_number": 6
    },
    {
     "cell_type": "code",
     "collapsed": false,
     "input": [
      "for filename in (glob.glob(dirs[0] + \"*\")):\n",
      "    print filename\n",
      "    for record in screed.open(filename):\n",
      "        reads_Titus.add(record.name)"
     ],
     "language": "python",
     "metadata": {},
     "outputs": [
      {
       "output_type": "stream",
       "stream": "stdout",
       "text": [
        "Assembly/0Hour_ATCACG_L002_R1_001.pe.qc.keep.abundfilt.fq.gz\n",
        "Assembly/0Hour_ATCACG_L002_R1_001.se.qc.keep.abundfilt.fq.gz"
       ]
      },
      {
       "output_type": "stream",
       "stream": "stdout",
       "text": [
        "\n",
        "Assembly/0Hour_ATCACG_L002_R1_002.pe.qc.keep.abundfilt.fq.gz"
       ]
      },
      {
       "output_type": "stream",
       "stream": "stdout",
       "text": [
        "\n",
        "Assembly/0Hour_ATCACG_L002_R1_002.se.qc.keep.abundfilt.fq.gz"
       ]
      },
      {
       "output_type": "stream",
       "stream": "stdout",
       "text": [
        "\n",
        "Assembly/0Hour_ATCACG_L002_R1_003.pe.qc.keep.abundfilt.fq.gz"
       ]
      },
      {
       "output_type": "stream",
       "stream": "stdout",
       "text": [
        "\n",
        "Assembly/0Hour_ATCACG_L002_R1_003.se.qc.keep.abundfilt.fq.gz"
       ]
      },
      {
       "output_type": "stream",
       "stream": "stdout",
       "text": [
        "\n",
        "Assembly/0Hour_ATCACG_L002_R1_004.pe.qc.keep.abundfilt.fq.gz"
       ]
      },
      {
       "output_type": "stream",
       "stream": "stdout",
       "text": [
        "\n",
        "Assembly/0Hour_ATCACG_L002_R1_004.se.qc.keep.abundfilt.fq.gz"
       ]
      },
      {
       "output_type": "stream",
       "stream": "stdout",
       "text": [
        "\n",
        "Assembly/0Hour_ATCACG_L002_R1_005.pe.qc.keep.abundfilt.fq.gz"
       ]
      },
      {
       "output_type": "stream",
       "stream": "stdout",
       "text": [
        "\n",
        "Assembly/0Hour_ATCACG_L002_R1_005.se.qc.keep.abundfilt.fq.gz"
       ]
      },
      {
       "output_type": "stream",
       "stream": "stdout",
       "text": [
        "\n",
        "Assembly/12Hour_TTAGGC_L002_R1_001.pe.qc.keep.abundfilt.fq.gz"
       ]
      },
      {
       "output_type": "stream",
       "stream": "stdout",
       "text": [
        "\n",
        "Assembly/12Hour_TTAGGC_L002_R1_001.se.qc.keep.abundfilt.fq.gz"
       ]
      },
      {
       "output_type": "stream",
       "stream": "stdout",
       "text": [
        "\n",
        "Assembly/12Hour_TTAGGC_L002_R1_002.pe.qc.keep.abundfilt.fq.gz"
       ]
      },
      {
       "output_type": "stream",
       "stream": "stdout",
       "text": [
        "\n",
        "Assembly/12Hour_TTAGGC_L002_R1_002.se.qc.keep.abundfilt.fq.gz"
       ]
      },
      {
       "output_type": "stream",
       "stream": "stdout",
       "text": [
        "\n",
        "Assembly/12Hour_TTAGGC_L002_R1_003.pe.qc.keep.abundfilt.fq.gz"
       ]
      },
      {
       "output_type": "stream",
       "stream": "stdout",
       "text": [
        "\n",
        "Assembly/12Hour_TTAGGC_L002_R1_003.se.qc.keep.abundfilt.fq.gz"
       ]
      },
      {
       "output_type": "stream",
       "stream": "stdout",
       "text": [
        "\n",
        "Assembly/12Hour_TTAGGC_L002_R1_004.pe.qc.keep.abundfilt.fq.gz"
       ]
      },
      {
       "output_type": "stream",
       "stream": "stdout",
       "text": [
        "\n",
        "Assembly/12Hour_TTAGGC_L002_R1_004.se.qc.keep.abundfilt.fq.gz"
       ]
      },
      {
       "output_type": "stream",
       "stream": "stdout",
       "text": [
        "\n",
        "Assembly/18Hour_TGACCA_L002_R1_001.pe.qc.keep.abundfilt.fq.gz"
       ]
      },
      {
       "output_type": "stream",
       "stream": "stdout",
       "text": [
        "\n",
        "Assembly/18Hour_TGACCA_L002_R1_001.se.qc.keep.abundfilt.fq.gz"
       ]
      },
      {
       "output_type": "stream",
       "stream": "stdout",
       "text": [
        "\n",
        "Assembly/18Hour_TGACCA_L002_R1_002.pe.qc.keep.abundfilt.fq.gz"
       ]
      },
      {
       "output_type": "stream",
       "stream": "stdout",
       "text": [
        "\n",
        "Assembly/18Hour_TGACCA_L002_R1_002.se.qc.keep.abundfilt.fq.gz"
       ]
      },
      {
       "output_type": "stream",
       "stream": "stdout",
       "text": [
        "\n",
        "Assembly/18Hour_TGACCA_L002_R1_003.pe.qc.keep.abundfilt.fq.gz"
       ]
      },
      {
       "output_type": "stream",
       "stream": "stdout",
       "text": [
        "\n",
        "Assembly/18Hour_TGACCA_L002_R1_003.se.qc.keep.abundfilt.fq.gz"
       ]
      },
      {
       "output_type": "stream",
       "stream": "stdout",
       "text": [
        "\n",
        "Assembly/18Hour_TGACCA_L002_R1_004.pe.qc.keep.abundfilt.fq.gz"
       ]
      },
      {
       "output_type": "stream",
       "stream": "stdout",
       "text": [
        "\n",
        "Assembly/18Hour_TGACCA_L002_R1_004.se.qc.keep.abundfilt.fq.gz"
       ]
      },
      {
       "output_type": "stream",
       "stream": "stdout",
       "text": [
        "\n",
        "Assembly/18Hour_TGACCA_L002_R1_005.pe.qc.keep.abundfilt.fq.gz"
       ]
      },
      {
       "output_type": "stream",
       "stream": "stdout",
       "text": [
        "\n",
        "Assembly/18Hour_TGACCA_L002_R1_005.se.qc.keep.abundfilt.fq.gz"
       ]
      },
      {
       "output_type": "stream",
       "stream": "stdout",
       "text": [
        "\n",
        "Assembly/18Hour_TGACCA_L002_R1_006.pe.qc.keep.abundfilt.fq.gz"
       ]
      },
      {
       "output_type": "stream",
       "stream": "stdout",
       "text": [
        "\n",
        "Assembly/18Hour_TGACCA_L002_R1_006.se.qc.keep.abundfilt.fq.gz"
       ]
      },
      {
       "output_type": "stream",
       "stream": "stdout",
       "text": [
        "\n",
        "Assembly/18Hour_TGACCA_L002_R1_007.pe.qc.keep.abundfilt.fq.gz"
       ]
      },
      {
       "output_type": "stream",
       "stream": "stdout",
       "text": [
        "\n",
        "Assembly/18Hour_TGACCA_L002_R1_007.se.qc.keep.abundfilt.fq.gz"
       ]
      },
      {
       "output_type": "stream",
       "stream": "stdout",
       "text": [
        "\n",
        "Assembly/18Hour_TGACCA_L002_R1_008.pe.qc.keep.abundfilt.fq.gz"
       ]
      },
      {
       "output_type": "stream",
       "stream": "stdout",
       "text": [
        "\n",
        "Assembly/18Hour_TGACCA_L002_R1_008.se.qc.keep.abundfilt.fq.gz"
       ]
      },
      {
       "output_type": "stream",
       "stream": "stdout",
       "text": [
        "\n",
        "Assembly/24HourA_ACAGTG_L002_R1_001.pe.qc.keep.abundfilt.fq.gz"
       ]
      },
      {
       "output_type": "stream",
       "stream": "stdout",
       "text": [
        "\n",
        "Assembly/24HourA_ACAGTG_L002_R1_001.se.qc.keep.abundfilt.fq.gz"
       ]
      },
      {
       "output_type": "stream",
       "stream": "stdout",
       "text": [
        "\n",
        "Assembly/24HourA_ACAGTG_L002_R1_002.pe.qc.keep.abundfilt.fq.gz"
       ]
      },
      {
       "output_type": "stream",
       "stream": "stdout",
       "text": [
        "\n",
        "Assembly/24HourA_ACAGTG_L002_R1_002.se.qc.keep.abundfilt.fq.gz"
       ]
      },
      {
       "output_type": "stream",
       "stream": "stdout",
       "text": [
        "\n",
        "Assembly/24HourA_ACAGTG_L002_R1_003.pe.qc.keep.abundfilt.fq.gz"
       ]
      },
      {
       "output_type": "stream",
       "stream": "stdout",
       "text": [
        "\n",
        "Assembly/24HourA_ACAGTG_L002_R1_003.se.qc.keep.abundfilt.fq.gz"
       ]
      },
      {
       "output_type": "stream",
       "stream": "stdout",
       "text": [
        "\n",
        "Assembly/24HourA_ACAGTG_L002_R1_004.pe.qc.keep.abundfilt.fq.gz"
       ]
      },
      {
       "output_type": "stream",
       "stream": "stdout",
       "text": [
        "\n",
        "Assembly/24HourA_ACAGTG_L002_R1_004.se.qc.keep.abundfilt.fq.gz"
       ]
      },
      {
       "output_type": "stream",
       "stream": "stdout",
       "text": [
        "\n",
        "Assembly/24HourA_ACAGTG_L002_R1_005.pe.qc.keep.abundfilt.fq.gz"
       ]
      },
      {
       "output_type": "stream",
       "stream": "stdout",
       "text": [
        "\n",
        "Assembly/24HourA_ACAGTG_L002_R1_005.se.qc.keep.abundfilt.fq.gz"
       ]
      },
      {
       "output_type": "stream",
       "stream": "stdout",
       "text": [
        "\n",
        "Assembly/24HourA_ACAGTG_L002_R1_006.pe.qc.keep.abundfilt.fq.gz"
       ]
      },
      {
       "output_type": "stream",
       "stream": "stdout",
       "text": [
        "\n",
        "Assembly/24HourA_ACAGTG_L002_R1_006.se.qc.keep.abundfilt.fq.gz"
       ]
      },
      {
       "output_type": "stream",
       "stream": "stdout",
       "text": [
        "\n",
        "Assembly/24HourA_ACAGTG_L002_R1_007.pe.qc.keep.abundfilt.fq.gz"
       ]
      },
      {
       "output_type": "stream",
       "stream": "stdout",
       "text": [
        "\n",
        "Assembly/24HourA_ACAGTG_L002_R1_007.se.qc.keep.abundfilt.fq.gz"
       ]
      },
      {
       "output_type": "stream",
       "stream": "stdout",
       "text": [
        "\n",
        "Assembly/24HourA_ACAGTG_L002_R1_008.pe.qc.keep.abundfilt.fq.gz"
       ]
      },
      {
       "output_type": "stream",
       "stream": "stdout",
       "text": [
        "\n",
        "Assembly/24HourA_ACAGTG_L002_R1_008.se.qc.keep.abundfilt.fq.gz"
       ]
      },
      {
       "output_type": "stream",
       "stream": "stdout",
       "text": [
        "\n",
        "Assembly/24HourA_ACAGTG_L002_R1_009.pe.qc.keep.abundfilt.fq.gz"
       ]
      },
      {
       "output_type": "stream",
       "stream": "stdout",
       "text": [
        "\n",
        "Assembly/24HourA_ACAGTG_L002_R1_009.se.qc.keep.abundfilt.fq.gz"
       ]
      },
      {
       "output_type": "stream",
       "stream": "stdout",
       "text": [
        "\n",
        "Assembly/24HourA_ACAGTG_L002_R1_010.pe.qc.keep.abundfilt.fq.gz"
       ]
      },
      {
       "output_type": "stream",
       "stream": "stdout",
       "text": [
        "\n",
        "Assembly/24HourA_ACAGTG_L002_R1_010.se.qc.keep.abundfilt.fq.gz"
       ]
      },
      {
       "output_type": "stream",
       "stream": "stdout",
       "text": [
        "\n",
        "Assembly/24HourB_GCCAAT_L002_R1_001.pe.qc.keep.abundfilt.fq.gz"
       ]
      },
      {
       "output_type": "stream",
       "stream": "stdout",
       "text": [
        "\n",
        "Assembly/24HourB_GCCAAT_L002_R1_001.se.qc.keep.abundfilt.fq.gz"
       ]
      },
      {
       "output_type": "stream",
       "stream": "stdout",
       "text": [
        "\n",
        "Assembly/6Hour_CGATGT_L002_R1_001.pe.qc.keep.abundfilt.fq.gz"
       ]
      },
      {
       "output_type": "stream",
       "stream": "stdout",
       "text": [
        "\n",
        "Assembly/6Hour_CGATGT_L002_R1_001.se.qc.keep.abundfilt.fq.gz"
       ]
      },
      {
       "output_type": "stream",
       "stream": "stdout",
       "text": [
        "\n",
        "Assembly/6Hour_CGATGT_L002_R1_002.pe.qc.keep.abundfilt.fq.gz"
       ]
      },
      {
       "output_type": "stream",
       "stream": "stdout",
       "text": [
        "\n",
        "Assembly/6Hour_CGATGT_L002_R1_002.se.qc.keep.abundfilt.fq.gz"
       ]
      },
      {
       "output_type": "stream",
       "stream": "stdout",
       "text": [
        "\n",
        "Assembly/6Hour_CGATGT_L002_R1_003.pe.qc.keep.abundfilt.fq.gz"
       ]
      },
      {
       "output_type": "stream",
       "stream": "stdout",
       "text": [
        "\n",
        "Assembly/6Hour_CGATGT_L002_R1_003.se.qc.keep.abundfilt.fq.gz"
       ]
      },
      {
       "output_type": "stream",
       "stream": "stdout",
       "text": [
        "\n",
        "Assembly/6Hour_CGATGT_L002_R1_004.pe.qc.keep.abundfilt.fq.gz"
       ]
      },
      {
       "output_type": "stream",
       "stream": "stdout",
       "text": [
        "\n",
        "Assembly/6Hour_CGATGT_L002_R1_004.se.qc.keep.abundfilt.fq.gz"
       ]
      },
      {
       "output_type": "stream",
       "stream": "stdout",
       "text": [
        "\n",
        "Assembly/6Hour_CGATGT_L002_R1_005.pe.qc.keep.abundfilt.fq.gz"
       ]
      },
      {
       "output_type": "stream",
       "stream": "stdout",
       "text": [
        "\n",
        "Assembly/6Hour_CGATGT_L002_R1_005.se.qc.keep.abundfilt.fq.gz"
       ]
      },
      {
       "output_type": "stream",
       "stream": "stdout",
       "text": [
        "\n"
       ]
      }
     ],
     "prompt_number": 7
    },
    {
     "cell_type": "code",
     "collapsed": false,
     "input": [
      "for filename in (glob.glob(dirs[1] + \"*\")):\n",
      "    print filename\n",
      "    for record in screed.open(filename):\n",
      "        reads_rackspace.add(record.name)"
     ],
     "language": "python",
     "metadata": {},
     "outputs": [
      {
       "output_type": "stream",
       "stream": "stdout",
       "text": [
        "Rackspace/0Hour_ATCACG_L002_R1_001.pe.qc.keep.abundfilt.fq.gz\n",
        "Rackspace/0Hour_ATCACG_L002_R1_001.se.qc.keep.abundfilt.fq.gz"
       ]
      },
      {
       "output_type": "stream",
       "stream": "stdout",
       "text": [
        "\n",
        "Rackspace/0Hour_ATCACG_L002_R1_002.pe.qc.keep.abundfilt.fq.gz"
       ]
      },
      {
       "output_type": "stream",
       "stream": "stdout",
       "text": [
        "\n",
        "Rackspace/0Hour_ATCACG_L002_R1_002.se.qc.keep.abundfilt.fq.gz"
       ]
      },
      {
       "output_type": "stream",
       "stream": "stdout",
       "text": [
        "\n",
        "Rackspace/0Hour_ATCACG_L002_R1_003.pe.qc.keep.abundfilt.fq.gz"
       ]
      },
      {
       "output_type": "stream",
       "stream": "stdout",
       "text": [
        "\n",
        "Rackspace/0Hour_ATCACG_L002_R1_003.se.qc.keep.abundfilt.fq.gz"
       ]
      },
      {
       "output_type": "stream",
       "stream": "stdout",
       "text": [
        "\n",
        "Rackspace/0Hour_ATCACG_L002_R1_004.pe.qc.keep.abundfilt.fq.gz"
       ]
      },
      {
       "output_type": "stream",
       "stream": "stdout",
       "text": [
        "\n",
        "Rackspace/0Hour_ATCACG_L002_R1_004.se.qc.keep.abundfilt.fq.gz"
       ]
      },
      {
       "output_type": "stream",
       "stream": "stdout",
       "text": [
        "\n",
        "Rackspace/0Hour_ATCACG_L002_R1_005.pe.qc.keep.abundfilt.fq.gz"
       ]
      },
      {
       "output_type": "stream",
       "stream": "stdout",
       "text": [
        "\n",
        "Rackspace/0Hour_ATCACG_L002_R1_005.se.qc.keep.abundfilt.fq.gz"
       ]
      },
      {
       "output_type": "stream",
       "stream": "stdout",
       "text": [
        "\n",
        "Rackspace/12Hour_TTAGGC_L002_R1_001.pe.qc.keep.abundfilt.fq.gz"
       ]
      },
      {
       "output_type": "stream",
       "stream": "stdout",
       "text": [
        "\n",
        "Rackspace/12Hour_TTAGGC_L002_R1_001.se.qc.keep.abundfilt.fq.gz"
       ]
      },
      {
       "output_type": "stream",
       "stream": "stdout",
       "text": [
        "\n",
        "Rackspace/12Hour_TTAGGC_L002_R1_002.pe.qc.keep.abundfilt.fq.gz"
       ]
      },
      {
       "output_type": "stream",
       "stream": "stdout",
       "text": [
        "\n",
        "Rackspace/12Hour_TTAGGC_L002_R1_002.se.qc.keep.abundfilt.fq.gz"
       ]
      },
      {
       "output_type": "stream",
       "stream": "stdout",
       "text": [
        "\n",
        "Rackspace/12Hour_TTAGGC_L002_R1_003.pe.qc.keep.abundfilt.fq.gz"
       ]
      },
      {
       "output_type": "stream",
       "stream": "stdout",
       "text": [
        "\n",
        "Rackspace/12Hour_TTAGGC_L002_R1_003.se.qc.keep.abundfilt.fq.gz"
       ]
      },
      {
       "output_type": "stream",
       "stream": "stdout",
       "text": [
        "\n",
        "Rackspace/12Hour_TTAGGC_L002_R1_004.pe.qc.keep.abundfilt.fq.gz"
       ]
      },
      {
       "output_type": "stream",
       "stream": "stdout",
       "text": [
        "\n",
        "Rackspace/12Hour_TTAGGC_L002_R1_004.se.qc.keep.abundfilt.fq.gz"
       ]
      },
      {
       "output_type": "stream",
       "stream": "stdout",
       "text": [
        "\n",
        "Rackspace/18Hour_TGACCA_L002_R1_001.pe.qc.keep.abundfilt.fq.gz"
       ]
      },
      {
       "output_type": "stream",
       "stream": "stdout",
       "text": [
        "\n",
        "Rackspace/18Hour_TGACCA_L002_R1_001.se.qc.keep.abundfilt.fq.gz"
       ]
      },
      {
       "output_type": "stream",
       "stream": "stdout",
       "text": [
        "\n",
        "Rackspace/18Hour_TGACCA_L002_R1_002.pe.qc.keep.abundfilt.fq.gz"
       ]
      },
      {
       "output_type": "stream",
       "stream": "stdout",
       "text": [
        "\n",
        "Rackspace/18Hour_TGACCA_L002_R1_002.se.qc.keep.abundfilt.fq.gz"
       ]
      },
      {
       "output_type": "stream",
       "stream": "stdout",
       "text": [
        "\n",
        "Rackspace/18Hour_TGACCA_L002_R1_003.pe.qc.keep.abundfilt.fq.gz"
       ]
      },
      {
       "output_type": "stream",
       "stream": "stdout",
       "text": [
        "\n",
        "Rackspace/18Hour_TGACCA_L002_R1_003.se.qc.keep.abundfilt.fq.gz"
       ]
      },
      {
       "output_type": "stream",
       "stream": "stdout",
       "text": [
        "\n",
        "Rackspace/18Hour_TGACCA_L002_R1_004.pe.qc.keep.abundfilt.fq.gz"
       ]
      },
      {
       "output_type": "stream",
       "stream": "stdout",
       "text": [
        "\n",
        "Rackspace/18Hour_TGACCA_L002_R1_004.se.qc.keep.abundfilt.fq.gz"
       ]
      },
      {
       "output_type": "stream",
       "stream": "stdout",
       "text": [
        "\n",
        "Rackspace/18Hour_TGACCA_L002_R1_005.pe.qc.keep.abundfilt.fq.gz"
       ]
      },
      {
       "output_type": "stream",
       "stream": "stdout",
       "text": [
        "\n",
        "Rackspace/18Hour_TGACCA_L002_R1_005.se.qc.keep.abundfilt.fq.gz"
       ]
      },
      {
       "output_type": "stream",
       "stream": "stdout",
       "text": [
        "\n",
        "Rackspace/18Hour_TGACCA_L002_R1_006.pe.qc.keep.abundfilt.fq.gz"
       ]
      },
      {
       "output_type": "stream",
       "stream": "stdout",
       "text": [
        "\n",
        "Rackspace/18Hour_TGACCA_L002_R1_006.se.qc.keep.abundfilt.fq.gz"
       ]
      },
      {
       "output_type": "stream",
       "stream": "stdout",
       "text": [
        "\n",
        "Rackspace/18Hour_TGACCA_L002_R1_007.pe.qc.keep.abundfilt.fq.gz"
       ]
      },
      {
       "output_type": "stream",
       "stream": "stdout",
       "text": [
        "\n",
        "Rackspace/18Hour_TGACCA_L002_R1_007.se.qc.keep.abundfilt.fq.gz"
       ]
      },
      {
       "output_type": "stream",
       "stream": "stdout",
       "text": [
        "\n",
        "Rackspace/18Hour_TGACCA_L002_R1_008.pe.qc.keep.abundfilt.fq.gz"
       ]
      },
      {
       "output_type": "stream",
       "stream": "stdout",
       "text": [
        "\n",
        "Rackspace/18Hour_TGACCA_L002_R1_008.se.qc.keep.abundfilt.fq.gz"
       ]
      },
      {
       "output_type": "stream",
       "stream": "stdout",
       "text": [
        "\n",
        "Rackspace/24HourA_ACAGTG_L002_R1_001.pe.qc.keep.abundfilt.fq.gz"
       ]
      },
      {
       "output_type": "stream",
       "stream": "stdout",
       "text": [
        "\n",
        "Rackspace/24HourA_ACAGTG_L002_R1_001.se.qc.keep.abundfilt.fq.gz"
       ]
      },
      {
       "output_type": "stream",
       "stream": "stdout",
       "text": [
        "\n",
        "Rackspace/24HourA_ACAGTG_L002_R1_002.pe.qc.keep.abundfilt.fq.gz"
       ]
      },
      {
       "output_type": "stream",
       "stream": "stdout",
       "text": [
        "\n",
        "Rackspace/24HourA_ACAGTG_L002_R1_002.se.qc.keep.abundfilt.fq.gz"
       ]
      },
      {
       "output_type": "stream",
       "stream": "stdout",
       "text": [
        "\n",
        "Rackspace/24HourA_ACAGTG_L002_R1_003.pe.qc.keep.abundfilt.fq.gz"
       ]
      },
      {
       "output_type": "stream",
       "stream": "stdout",
       "text": [
        "\n",
        "Rackspace/24HourA_ACAGTG_L002_R1_003.se.qc.keep.abundfilt.fq.gz"
       ]
      },
      {
       "output_type": "stream",
       "stream": "stdout",
       "text": [
        "\n",
        "Rackspace/24HourA_ACAGTG_L002_R1_004.pe.qc.keep.abundfilt.fq.gz"
       ]
      },
      {
       "output_type": "stream",
       "stream": "stdout",
       "text": [
        "\n",
        "Rackspace/24HourA_ACAGTG_L002_R1_004.se.qc.keep.abundfilt.fq.gz"
       ]
      },
      {
       "output_type": "stream",
       "stream": "stdout",
       "text": [
        "\n",
        "Rackspace/24HourA_ACAGTG_L002_R1_005.pe.qc.keep.abundfilt.fq.gz"
       ]
      },
      {
       "output_type": "stream",
       "stream": "stdout",
       "text": [
        "\n",
        "Rackspace/24HourA_ACAGTG_L002_R1_005.se.qc.keep.abundfilt.fq.gz"
       ]
      },
      {
       "output_type": "stream",
       "stream": "stdout",
       "text": [
        "\n",
        "Rackspace/24HourA_ACAGTG_L002_R1_006.pe.qc.keep.abundfilt.fq.gz"
       ]
      },
      {
       "output_type": "stream",
       "stream": "stdout",
       "text": [
        "\n",
        "Rackspace/24HourA_ACAGTG_L002_R1_006.se.qc.keep.abundfilt.fq.gz"
       ]
      },
      {
       "output_type": "stream",
       "stream": "stdout",
       "text": [
        "\n",
        "Rackspace/24HourA_ACAGTG_L002_R1_007.pe.qc.keep.abundfilt.fq.gz"
       ]
      },
      {
       "output_type": "stream",
       "stream": "stdout",
       "text": [
        "\n",
        "Rackspace/24HourA_ACAGTG_L002_R1_007.se.qc.keep.abundfilt.fq.gz"
       ]
      },
      {
       "output_type": "stream",
       "stream": "stdout",
       "text": [
        "\n",
        "Rackspace/24HourA_ACAGTG_L002_R1_008.pe.qc.keep.abundfilt.fq.gz"
       ]
      },
      {
       "output_type": "stream",
       "stream": "stdout",
       "text": [
        "\n",
        "Rackspace/24HourA_ACAGTG_L002_R1_008.se.qc.keep.abundfilt.fq.gz"
       ]
      },
      {
       "output_type": "stream",
       "stream": "stdout",
       "text": [
        "\n",
        "Rackspace/24HourA_ACAGTG_L002_R1_009.pe.qc.keep.abundfilt.fq.gz"
       ]
      },
      {
       "output_type": "stream",
       "stream": "stdout",
       "text": [
        "\n",
        "Rackspace/24HourA_ACAGTG_L002_R1_009.se.qc.keep.abundfilt.fq.gz"
       ]
      },
      {
       "output_type": "stream",
       "stream": "stdout",
       "text": [
        "\n",
        "Rackspace/24HourA_ACAGTG_L002_R1_010.pe.qc.keep.abundfilt.fq.gz"
       ]
      },
      {
       "output_type": "stream",
       "stream": "stdout",
       "text": [
        "\n",
        "Rackspace/24HourA_ACAGTG_L002_R1_010.se.qc.keep.abundfilt.fq.gz"
       ]
      },
      {
       "output_type": "stream",
       "stream": "stdout",
       "text": [
        "\n",
        "Rackspace/24HourB_GCCAAT_L002_R1_001.pe.qc.keep.abundfilt.fq.gz"
       ]
      },
      {
       "output_type": "stream",
       "stream": "stdout",
       "text": [
        "\n",
        "Rackspace/24HourB_GCCAAT_L002_R1_001.se.qc.keep.abundfilt.fq.gz"
       ]
      },
      {
       "output_type": "stream",
       "stream": "stdout",
       "text": [
        "\n",
        "Rackspace/6Hour_CGATGT_L002_R1_001.pe.qc.keep.abundfilt.fq.gz"
       ]
      },
      {
       "output_type": "stream",
       "stream": "stdout",
       "text": [
        "\n",
        "Rackspace/6Hour_CGATGT_L002_R1_001.se.qc.keep.abundfilt.fq.gz"
       ]
      },
      {
       "output_type": "stream",
       "stream": "stdout",
       "text": [
        "\n",
        "Rackspace/6Hour_CGATGT_L002_R1_002.pe.qc.keep.abundfilt.fq.gz"
       ]
      },
      {
       "output_type": "stream",
       "stream": "stdout",
       "text": [
        "\n",
        "Rackspace/6Hour_CGATGT_L002_R1_002.se.qc.keep.abundfilt.fq.gz"
       ]
      },
      {
       "output_type": "stream",
       "stream": "stdout",
       "text": [
        "\n",
        "Rackspace/6Hour_CGATGT_L002_R1_003.pe.qc.keep.abundfilt.fq.gz"
       ]
      },
      {
       "output_type": "stream",
       "stream": "stdout",
       "text": [
        "\n",
        "Rackspace/6Hour_CGATGT_L002_R1_003.se.qc.keep.abundfilt.fq.gz"
       ]
      },
      {
       "output_type": "stream",
       "stream": "stdout",
       "text": [
        "\n",
        "Rackspace/6Hour_CGATGT_L002_R1_004.pe.qc.keep.abundfilt.fq.gz"
       ]
      },
      {
       "output_type": "stream",
       "stream": "stdout",
       "text": [
        "\n",
        "Rackspace/6Hour_CGATGT_L002_R1_004.se.qc.keep.abundfilt.fq.gz"
       ]
      },
      {
       "output_type": "stream",
       "stream": "stdout",
       "text": [
        "\n",
        "Rackspace/6Hour_CGATGT_L002_R1_005.pe.qc.keep.abundfilt.fq.gz"
       ]
      },
      {
       "output_type": "stream",
       "stream": "stdout",
       "text": [
        "\n",
        "Rackspace/6Hour_CGATGT_L002_R1_005.se.qc.keep.abundfilt.fq.gz"
       ]
      },
      {
       "output_type": "stream",
       "stream": "stdout",
       "text": [
        "\n"
       ]
      }
     ],
     "prompt_number": 8
    },
    {
     "cell_type": "code",
     "collapsed": false,
     "input": [
      "intersect = reads_Titus & reads_rackspace\n",
      "only_Titus = reads_Titus - reads_rackspace\n",
      "only_rackspace = reads_rackspace - reads_Titus"
     ],
     "language": "python",
     "metadata": {},
     "outputs": [],
     "prompt_number": 9
    },
    {
     "cell_type": "code",
     "collapsed": false,
     "input": [
      "print '{} reads shared'.format(len(intersect))\n",
      "print '{} reads in Titus'.format(len(only_Titus))\n",
      "print '{} reads in Rackspace'.format(len(only_rackspace))"
     ],
     "language": "python",
     "metadata": {},
     "outputs": [
      {
       "output_type": "stream",
       "stream": "stdout",
       "text": [
        "16263992 reads shared\n",
        "0 reads in Titus\n",
        "0 reads in Rackspace\n"
       ]
      }
     ],
     "prompt_number": 10
    },
    {
     "cell_type": "code",
     "collapsed": false,
     "input": [],
     "language": "python",
     "metadata": {},
     "outputs": []
    }
   ],
   "metadata": {}
  }
 ]
}